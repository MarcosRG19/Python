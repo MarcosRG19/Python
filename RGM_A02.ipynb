{
  "nbformat": 4,
  "nbformat_minor": 0,
  "metadata": {
    "colab": {
      "provenance": [],
      "authorship_tag": "ABX9TyPJiCSZ1srPk2n5PaorkYKL",
      "include_colab_link": true
    },
    "kernelspec": {
      "name": "python3",
      "display_name": "Python 3"
    },
    "language_info": {
      "name": "python"
    }
  },
  "cells": [
    {
      "cell_type": "markdown",
      "metadata": {
        "id": "view-in-github",
        "colab_type": "text"
      },
      "source": [
        "<a href=\"https://colab.research.google.com/github/MarcosRG19/Python/blob/main/RGM_A02.ipynb\" target=\"_parent\"><img src=\"https://colab.research.google.com/assets/colab-badge.svg\" alt=\"Open In Colab\"/></a>"
      ]
    },
    {
      "cell_type": "markdown",
      "source": [
        "Programa en Python que lea 2 números enteros, usar una condición y analizar los dos números y desplegar cual de los números es el mayor.\n"
      ],
      "metadata": {
        "id": "4KeubNcVGGIE"
      }
    },
    {
      "cell_type": "code",
      "execution_count": 2,
      "metadata": {
        "id": "8-qk0LUZFul3",
        "colab": {
          "base_uri": "https://localhost:8080/"
        },
        "outputId": "dd2ed9a3-df63-4018-fda2-1a010679e86f"
      },
      "outputs": [
        {
          "output_type": "stream",
          "name": "stdout",
          "text": [
            "Dame el primer numero: 15\n",
            "Dame el segundo numero: 10\n",
            "El numero mayor es el primero, con valor: 15\n"
          ]
        }
      ],
      "source": [
        "num1=int(input(\"Dame el primer numero: \"))\n",
        "num2=int(input(\"Dame el segundo numero: \"))\n",
        "if num1>num2:\n",
        "    print(f\"El numero mayor es el primero, con valor: {num1}\")\n",
        "if num2>num1:\n",
        "    print(f\"El numero mayor es el segundo, con valor: {num2}\")"
      ]
    },
    {
      "cell_type": "markdown",
      "source": [
        "Programa en Python que lea 4 calificaciones de un alumno, calcular y desplegar el promedio acompañado de la leyenda \"APROBADO\" o \"REPROBADO\""
      ],
      "metadata": {
        "id": "jSnRVqWjGTeS"
      }
    },
    {
      "cell_type": "code",
      "source": [
        "calif1=int(input(\"Dame la primera calificacion: \"))\n",
        "calif2=int(input(\"Dame la segunda calificacion: \"))\n",
        "calif3=int(input(\"Dame la tercera calificacion: \"))\n",
        "calif4=int(input(\"Dame la cuarta calificacion: \"))\n",
        "prom=(calif1+calif2+calif3+calif4)/4\n",
        "if prom>=60:\n",
        "    print(f\"Tu promedio es de: {prom} \\nAPROBADO\")\n",
        "if prom<60:\n",
        "    print(f\"Tu promedio es de: {prom} \\nREPROBADO\")\n"
      ],
      "metadata": {
        "id": "4ff0b_G1GT0v",
        "colab": {
          "base_uri": "https://localhost:8080/"
        },
        "outputId": "d9207dd1-d677-4e8d-9b42-eda735a2197a"
      },
      "execution_count": 4,
      "outputs": [
        {
          "output_type": "stream",
          "name": "stdout",
          "text": [
            "Dame la primera calificacion: 50\n",
            "Dame la segunda calificacion: 50\n",
            "Dame la tercera calificacion: 50\n",
            "Dame la cuarta calificacion: 50\n",
            "Tu promedio es de: 50.0 \n",
            "REPROBADO\n"
          ]
        }
      ]
    },
    {
      "cell_type": "markdown",
      "source": [
        "Programa en Python que a través de opciones (1.- HOMBRE 2.- MUJER ) preguntar al usuario cual es su sexo y desplegar la leyenda “HOMBRE ”, “MUJER”"
      ],
      "metadata": {
        "id": "cXiuZr5dGUCL"
      }
    },
    {
      "cell_type": "code",
      "source": [
        "opc=int(input(\"¿Cual es tu sexo? \\n1. HOMBRE \\n2. MUJER \\n\"))\n",
        "if opc==1:\n",
        "    print(\"HOMBRE\")\n",
        "if opc==2:\n",
        "    print(\"MUJER\")"
      ],
      "metadata": {
        "id": "DVbyl4gHGUPb",
        "colab": {
          "base_uri": "https://localhost:8080/"
        },
        "outputId": "93c03f30-5f44-4be4-802a-b4c8c601c7a9"
      },
      "execution_count": 7,
      "outputs": [
        {
          "output_type": "stream",
          "name": "stdout",
          "text": [
            "¿Cual es tu sexo? \n",
            "1. HOMBRE \n",
            "2. MUJER \n",
            "2\n",
            "MUJER\n"
          ]
        }
      ]
    },
    {
      "cell_type": "markdown",
      "source": [
        "Programa en Python que lea un número entero, y desplegar si el número es “PAR” o “IMPAR”"
      ],
      "metadata": {
        "id": "qxN04HaeGUen"
      }
    },
    {
      "cell_type": "code",
      "source": [
        "num=int(input(\"Dame un numero que sea entero \\n\"))\n",
        "if num%2==0:\n",
        "    print(\"El numero es par\")\n",
        "if num%2!=0:\n",
        "    print(\"El numero es impar\")"
      ],
      "metadata": {
        "id": "39fuNcs0GUtp",
        "colab": {
          "base_uri": "https://localhost:8080/"
        },
        "outputId": "695557f2-5d0a-4890-ad2b-9839c6dd45f4"
      },
      "execution_count": 9,
      "outputs": [
        {
          "output_type": "stream",
          "name": "stdout",
          "text": [
            "Dame un numero que sea entero3\n",
            "El numero es impar\n"
          ]
        }
      ]
    },
    {
      "cell_type": "markdown",
      "source": [
        "Programa en Python que lea 2 números enteros, usar una condición y analizar los dos números y desplegar cual de los números es el mayor"
      ],
      "metadata": {
        "id": "tbz1-BA7LyNO"
      }
    },
    {
      "cell_type": "code",
      "source": [
        "num1=int(input(\"Dame el primer numero: \"))\n",
        "num2=int(input(\"Dame el segundo numero: \"))\n",
        "if num1>num2:\n",
        "    print(f\"El numero mayor es el primero, con valor: {num1}\")\n",
        "else:\n",
        "    print(f\"El numero mayor es el segundo, con valor: {num2}\")"
      ],
      "metadata": {
        "colab": {
          "base_uri": "https://localhost:8080/"
        },
        "id": "2d0gtDQZLydG",
        "outputId": "f131a7ef-704c-4ffa-d11a-0c0a0289aa57"
      },
      "execution_count": 11,
      "outputs": [
        {
          "output_type": "stream",
          "name": "stdout",
          "text": [
            "Dame el primer numero: 12\n",
            "Dame el segundo numero: 10\n",
            "El numero mayor es el primero, con valor: 12\n"
          ]
        }
      ]
    },
    {
      "cell_type": "markdown",
      "source": [
        "Programa en Python que lea 4 calificaciones de un alumno, calcular y desplegar el promedio acompañado de la leyenda APROBADO o REPROBADO"
      ],
      "metadata": {
        "id": "cBF7f1UFLykk"
      }
    },
    {
      "cell_type": "code",
      "source": [
        "calif1=int(input(\"Dame la primera calificacion: \"))\n",
        "calif2=int(input(\"Dame la segunda calificacion: \"))\n",
        "calif3=int(input(\"Dame la tercera calificacion: \"))\n",
        "calif4=int(input(\"Dame la cuarta calificacion: \"))\n",
        "prom=(calif1+calif2+calif3+calif4)/4\n",
        "if prom>=60:\n",
        "    print(f\"Tu promedio es de: {prom} \\nAPROBADO\")\n",
        "else:\n",
        "    print(f\"Tu promedio es de: {prom} \\nREPROBADO\")"
      ],
      "metadata": {
        "colab": {
          "base_uri": "https://localhost:8080/"
        },
        "id": "m00nnA_NLyrx",
        "outputId": "63fe9108-7e74-4cdc-ac33-8c19b61c6a9c"
      },
      "execution_count": 13,
      "outputs": [
        {
          "output_type": "stream",
          "name": "stdout",
          "text": [
            "Dame la primera calificacion: 50\n",
            "Dame la segunda calificacion: 50\n",
            "Dame la tercera calificacion: 50\n",
            "Dame la cuarta calificacion: 50\n",
            "Tu promedio es de: 50.0 \n",
            "REPROBADO\n"
          ]
        }
      ]
    },
    {
      "cell_type": "markdown",
      "source": [
        "Programa en Python que a través de opciones (1.- HOMBRE 2.- MUJER ) preguntar al usuario cual es su sexo y desplegar la leyenda “HOMBRE ”, “MUJER”"
      ],
      "metadata": {
        "id": "6JnyjY2wLyyA"
      }
    },
    {
      "cell_type": "code",
      "source": [
        "opc=int(input(\"¿Cual es tu sexo? \\n1. HOMBRE \\n2. MUJER \\n\"))\n",
        "if opc==1:\n",
        "    print(\"HOMBRE\")\n",
        "else:\n",
        "    print(\"MUJER\")"
      ],
      "metadata": {
        "colab": {
          "base_uri": "https://localhost:8080/"
        },
        "id": "UPILX66fLy4x",
        "outputId": "cb8c2966-46f0-46fe-997d-751ac74e49a5"
      },
      "execution_count": 16,
      "outputs": [
        {
          "output_type": "stream",
          "name": "stdout",
          "text": [
            "¿Cual es tu sexo? \n",
            "1. HOMBRE \n",
            "2. MUJER \n",
            "3\n",
            "MUJER\n"
          ]
        }
      ]
    },
    {
      "cell_type": "markdown",
      "source": [
        "Programa en Python que lea un número entero, y desplegar si el número es “PAR” o “IMPAR” NOTA: EJERCICIOS PARA SER RESUELTOS USANDO EXCLUSIVAMENTE CONDICIONES COMPUESTO"
      ],
      "metadata": {
        "id": "iDuZlO8mLzro"
      }
    },
    {
      "cell_type": "code",
      "source": [
        "num=int(input(\"Dame un numero que sea entero \\n\"))\n",
        "if num%2==0:\n",
        "    print(\"El numero es par\")\n",
        "else:\n",
        "    print(\"El numero es impar\")"
      ],
      "metadata": {
        "id": "GtrJ9F5OLzxQ"
      },
      "execution_count": null,
      "outputs": []
    }
  ]
}