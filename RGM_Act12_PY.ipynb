{
  "cells": [
    {
      "cell_type": "markdown",
      "metadata": {
        "id": "view-in-github",
        "colab_type": "text"
      },
      "source": [
        "<a href=\"https://colab.research.google.com/github/MarcosRG19/Python/blob/main/RGM_Act12_PY.ipynb\" target=\"_parent\"><img src=\"https://colab.research.google.com/assets/colab-badge.svg\" alt=\"Open In Colab\"/></a>"
      ]
    },
    {
      "cell_type": "markdown",
      "metadata": {
        "id": "EcNnch_0dd9X"
      },
      "source": [
        "# ACTIVIDAD 12\n",
        "\n",
        "MENU\n",
        "\n",
        "1.- Agregar (automatico 10)\n",
        "\n",
        "2.- Eliminar {ID}\n",
        "\n",
        "3.- Imprimir lista ( tabla)\n",
        "\n",
        "4.- Buscar {ID}\n",
        "\n",
        "5.- Buscar {appat} todas las coincidencias\n",
        "\n",
        "6.- Ordenar {ID}\n",
        "\n",
        "7.- Generar archivo {ID} (preguntar nombre del archivo)\n",
        "\n",
        "   a) excel\n",
        "\n",
        " b) txt\n",
        "\n",
        " c) cvs\n",
        "\n",
        " d) MarkDown\n",
        "\n",
        "8.- Cargar archivo {ID}\n",
        "\n",
        "9.- Imprimir archivo {ID}\n",
        "\n",
        "10.- Borrar Toda la lista {ID}\n",
        "\n",
        "0.- SALIR\n",
        "\n",
        "\n",
        "\n",
        "NOTA: Los datos del diccionario son los Datos básicos de un trabajador de una fabrica.\n",
        "\n",
        "\n",
        "\n",
        "\n",
        "NOTA 2: VALIDAR EL PROGRAMA 100%\n",
        "\n",
        "Preguntar siempre si esta seguro eliminar, No ordenar si ya esta Ordenado, decir si lista vacía, no existe o mostrar si estala búsqueda, No se permiten ID repetidos"
      ]
    },
    {
      "cell_type": "code",
      "execution_count": 3,
      "metadata": {
        "id": "oVvnIdXvdVOT"
      },
      "outputs": [],
      "source": [
        "from IPython.display import clear_output\n",
        "import random\n",
        "import pandas as pd\n",
        "import os"
      ]
    },
    {
      "cell_type": "code",
      "source": [
        "from google.colab import drive\n",
        "drive.mount('/content/drive')"
      ],
      "metadata": {
        "colab": {
          "base_uri": "https://localhost:8080/",
          "height": 0
        },
        "id": "HC-fPLk_6tyZ",
        "outputId": "f90c6317-a5aa-4038-955d-46d43b2b4da7"
      },
      "execution_count": 4,
      "outputs": [
        {
          "output_type": "stream",
          "name": "stdout",
          "text": [
            "Mounted at /content/drive\n"
          ]
        }
      ]
    },
    {
      "cell_type": "code",
      "source": [
        "ruta=\"/content/drive/MyDrive/proyecto\""
      ],
      "metadata": {
        "id": "XHNrsvGx7Eks"
      },
      "execution_count": 5,
      "outputs": []
    },
    {
      "cell_type": "code",
      "source": [
        "import sys\n",
        "sys.path.append(ruta)"
      ],
      "metadata": {
        "id": "DgCLnAOK7gPI"
      },
      "execution_count": 6,
      "outputs": []
    },
    {
      "cell_type": "code",
      "execution_count": 7,
      "metadata": {
        "id": "j9o6r6Bd9r8m"
      },
      "outputs": [],
      "source": [
        "def Fech_Nac():\n",
        "    año = random.randint(1973,1982)\n",
        "    mes = random.randint(1,12)\n",
        "    if mes == 1 or 3 or 5 or 7 or 8 or 10 or 12:\n",
        "        dia = random.randint(1,31)\n",
        "    elif mes == 2:\n",
        "        dia = random.randint(1,28)\n",
        "    elif mes == 4 or 6 or 9 or 11:\n",
        "        dia = random.randint(1,30)\n",
        "    fecha = [dia,mes,año]\n",
        "    return fecha"
      ]
    },
    {
      "cell_type": "code",
      "execution_count": 8,
      "metadata": {
        "id": "28FK__VJHJv1"
      },
      "outputs": [],
      "source": [
        "def Direccion():\n",
        "    colonias=[\"villas 1\", \"villas 2\", \"villas 3\", \"Villas 4\", \"Escorpion\", \"Villas del rey 1\", \"Villas del rey 2\", \"Colonia Aeropuerto\", \"Loma linda\", \"Villa Bonita\", \"Gomez Morin\", \"Colonia Hidalgo\"]\n",
        "    calles=[\"Calle 1ra\", \"Calle 2da\", \"Calle 3ra\", \"Calle 4ta\", \"Calle 5ta\", \"Calle 6ta\", \"Calle 7ma\", \"Calle 8va\", \"Calle 9na\", \"Calle 10\", \"Camino de los reyes\", \"Jupiter\", \"Venado\", \"Orca\", \"Margaritas\", \"Tulipanes\", \"Orquideas\"]\n",
        "    dir=[random.choice(calles), random.randint(1,100), random.choice(colonias)]\n",
        "    return dir"
      ]
    },
    {
      "cell_type": "code",
      "execution_count": 9,
      "metadata": {
        "id": "Luub5e6ye3w6"
      },
      "outputs": [],
      "source": [
        "def DiccAuto():\n",
        "    Stat = 1\n",
        "    ID = random.randint(200000,399999)\n",
        "    año = random.randint(2010,2023)\n",
        "    mes = random.randint(1,12)\n",
        "    if mes == 1 or 3 or 5 or 7 or 8 or 10 or 12:\n",
        "        dia = random.randint(1,31)\n",
        "    elif mes == 2:\n",
        "        dia = random.randint(1,28)\n",
        "    elif mes == 4 or 6 or 9 or 11:\n",
        "        dia = random.randint(1,30)\n",
        "    Ingreso = [dia,mes,año]\n",
        "    Apellidos = [\"Torres\",\"Talamantes\",\"Ruiz\",\"Gonzalez\",\"Guzman\",\"Cortez\",\"Ponce\",\"Trujillo\",\"Ramirez\",\"Juarez\",\"Garcia\",\"Marquez\",\"Lozano\",\"Vazquez\",\"Delfin\",\"Cerda\",\"Lopez\",\"Perez\",\"Jimenez\",\"Maldonado\"]\n",
        "    NombreM = [\"Margarita\",\"Maria\",\"Carla\",\"Karina\",\"Gissel\",\"Claudia\",\"Kenia\",\"Diana\",\"Damaris\",\"Litzia\",\"Anahi\",\"Gabriela\",\"Leslie\",\"Sofia\",\"Monica\",\"Monserrat\",\"Giovana\",\"Vanessa\",\"Jovana\",\"Michel\"]\n",
        "    NombreH = [\"Hector\",\"Roman\",\"Juan\",\"Jose\",\"Javier\",\"Hugo\",\"Arturo\",\"Armando\",\"Carlos\",\"Cesar\",\"Luis\",\"Ricardo\",\"Marco\",\"Marcos\",\"Mario\",\"martin\",\"Oscar\",\"Omar\",\"Fernando\",\"Efren\"]\n",
        "    Sexo = [\"Hombre\",\"Mujer\"]\n",
        "    nacimiento = Fech_Nac()\n",
        "    direc = Direccion()\n",
        "    SegSoc = random.randint(10000000000,99999999999)\n",
        "    Telef = random.randint(6460000000,6469999999)\n",
        "    sex = random.randint(0,100)\n",
        "    if sex < 50:\n",
        "        reg = {\"NÚMERO DE EMPLEADO\": ID ,\"FECHA DE INGRESO\": Ingreso ,\"Nombre\": random.choice(NombreH) ,\n",
        "               \"Apellido Paterno\": random.choice(Apellidos) ,\"Apellido Materno\": random.choice(Apellidos) ,\n",
        "               \"Fecha de nacimiento\": nacimiento ,\"Sexo\": Sexo[0],\"No. Securo Social\": SegSoc ,\"Direccion\": direc ,\n",
        "               \"Telefono\": Telef}\n",
        "    else:\n",
        "        reg = {\"NÚMERO DE EMPLEADO\": ID ,\"FECHA DE INGRESO\": Ingreso ,\"Nombre\": random.choice(NombreM) ,\n",
        "               \"Apellido Paterno\": random.choice(Apellidos) ,\"Apellido Materno\": random.choice(Apellidos) ,\n",
        "               \"Fecha de nacimiento\": nacimiento ,\"Sexo\": Sexo[1],\"No. Securo Social\": SegSoc ,\"Direccion\": direc ,\n",
        "               \"Telefono\": Telef}\n",
        "    return reg\n"
      ]
    },
    {
      "cell_type": "code",
      "source": [
        "def Genarch():\n",
        "    print(\"1. EXCEL\")\n",
        "    print(\"2. TXT\")\n",
        "    print(\"3. CVS\")\n",
        "    print(\"4. MARKDOWN\")\n",
        "    opc = int(input(\"QUE TIPO DE ARCHIVO DESEA CREAR\"))\n",
        "    if opc==1:\n",
        "        data = pd.DataFrame(lista)\n",
        "        data.to_excel('/content/drive/MyDrive/proyecto/Archivocorupto.xlsx', index=False)\n",
        "    elif opc==3:\n",
        "        data = pd.DataFrame(lista)\n",
        "        data.to_csv('/content/drive/MyDrive/proyecto/Archivocorupto.csv', index=False)\n",
        "    elif opc==4:\n",
        "        path = \"/content/drive/MyDrive/proyecto/Archivocorupto.md\"\n",
        "        data = pd.DataFrame(lista)\n",
        "        data.to_markdown(path, index=False)"
      ],
      "metadata": {
        "id": "wRBdz8GJXFox"
      },
      "execution_count": 10,
      "outputs": []
    },
    {
      "cell_type": "code",
      "execution_count": 12,
      "metadata": {
        "colab": {
          "base_uri": "https://localhost:8080/",
          "height": 0
        },
        "id": "njHJ0C2cQ35q",
        "outputId": "3eec4398-4b00-4d52-bf57-12598e559fe6"
      },
      "outputs": [
        {
          "name": "stdout",
          "output_type": "stream",
          "text": [
            "MENU\n",
            "1.- AGREGAR REGISTRO AUTOMATICO\n",
            "2.- ELIMINAR\n",
            "3.- IMPRIMIR LISTA\n",
            "4.- BUSCAR\n",
            "5.- BUSCAR COINCIDENCIAS DE APELLIDO\n",
            "6.- ORDENAR\n",
            "7.- GENERAR ARCHIVO\n",
            "8.- CARGAR ARCHIVO\n",
            "9.- IMPRIMIR ARCHIVO\n",
            "10.- BORRAR TODA LA LISTA\n",
            "0- SALIR\n",
            "ELIGE LA OPCION QUE DESEES\n",
            "1\n",
            "MENU\n",
            "1.- AGREGAR REGISTRO AUTOMATICO\n",
            "2.- ELIMINAR\n",
            "3.- IMPRIMIR LISTA\n",
            "4.- BUSCAR\n",
            "5.- BUSCAR COINCIDENCIAS DE APELLIDO\n",
            "6.- ORDENAR\n",
            "7.- GENERAR ARCHIVO\n",
            "8.- CARGAR ARCHIVO\n",
            "9.- IMPRIMIR ARCHIVO\n",
            "10.- BORRAR TODA LA LISTA\n",
            "0- SALIR\n",
            "ELIGE LA OPCION QUE DESEES\n",
            "3\n",
            "   NÚMERO DE EMPLEADO FECHA DE INGRESO     Nombre Apellido Paterno  \\\n",
            "0              235001     [2, 8, 2021]     Gissel           Delfin   \n",
            "1              373885     [7, 4, 2011]     martin          Vazquez   \n",
            "2              306797    [13, 1, 2018]       Juan            Lopez   \n",
            "3              376717   [23, 11, 2021]   Fernando           Lozano   \n",
            "4              222945     [4, 8, 2013]      Anahi           Torres   \n",
            "5              291023   [22, 10, 2014]     Jovana          Vazquez   \n",
            "6              258388     [5, 4, 2014]     Leslie           Guzman   \n",
            "7              221494     [6, 4, 2016]      Roman           Delfin   \n",
            "8              327526     [2, 2, 2013]  Margarita           Garcia   \n",
            "9              282018    [19, 6, 2022]     Monica            Cerda   \n",
            "\n",
            "  Apellido Materno Fecha de nacimiento    Sexo  No. Securo Social  \\\n",
            "0          Marquez      [17, 11, 1978]   Mujer        69628515066   \n",
            "1          Ramirez       [6, 12, 1981]  Hombre        81565282119   \n",
            "2        Maldonado       [22, 5, 1981]  Hombre        63010592849   \n",
            "3          Vazquez      [28, 10, 1981]  Hombre        35171928701   \n",
            "4          Vazquez       [27, 8, 1973]   Mujer        64880280271   \n",
            "5          Vazquez      [21, 11, 1982]   Mujer        88299138628   \n",
            "6          Ramirez       [23, 2, 1977]   Mujer        59326434400   \n",
            "7             Ruiz        [9, 8, 1973]  Hombre        71644712590   \n",
            "8            Perez       [28, 9, 1973]   Mujer        63643530980   \n",
            "9           Lozano       [27, 3, 1978]   Mujer        54779541862   \n",
            "\n",
            "                                     Direccion    Telefono  \n",
            "0            [Orquideas, 98, Villas del rey 2]  6469727942  \n",
            "1          [Calle 4ta, 82, Colonia Aeropuerto]  6462743750  \n",
            "2                [Calle 4ta, 66, Villa Bonita]  6467414475  \n",
            "3                  [Calle 7ma, 44, Loma linda]  6465078603  \n",
            "4                         [Orca, 56, villas 3]  6467367120  \n",
            "5                     [Jupiter, 18, Escorpion]  6462457548  \n",
            "6                    [Calle 3ra, 45, villas 2]  6464960412  \n",
            "7                     [Calle 10, 58, villas 3]  6466661599  \n",
            "8          [Calle 7ma, 48, Colonia Aeropuerto]  6460086697  \n",
            "9  [Camino de los reyes, 44, Villas del rey 1]  6464615078  \n",
            "MENU\n",
            "1.- AGREGAR REGISTRO AUTOMATICO\n",
            "2.- ELIMINAR\n",
            "3.- IMPRIMIR LISTA\n",
            "4.- BUSCAR\n",
            "5.- BUSCAR COINCIDENCIAS DE APELLIDO\n",
            "6.- ORDENAR\n",
            "7.- GENERAR ARCHIVO\n",
            "8.- CARGAR ARCHIVO\n",
            "9.- IMPRIMIR ARCHIVO\n",
            "10.- BORRAR TODA LA LISTA\n",
            "0- SALIR\n",
            "ELIGE LA OPCION QUE DESEES\n",
            "7\n",
            "1. EXCEL\n",
            "2. TXT\n",
            "3. CVS\n",
            "4. MARKDOWN\n",
            "QUE TIPO DE ARCHIVO DESEA CREAR3\n",
            "MENU\n",
            "1.- AGREGAR REGISTRO AUTOMATICO\n",
            "2.- ELIMINAR\n",
            "3.- IMPRIMIR LISTA\n",
            "4.- BUSCAR\n",
            "5.- BUSCAR COINCIDENCIAS DE APELLIDO\n",
            "6.- ORDENAR\n",
            "7.- GENERAR ARCHIVO\n",
            "8.- CARGAR ARCHIVO\n",
            "9.- IMPRIMIR ARCHIVO\n",
            "10.- BORRAR TODA LA LISTA\n",
            "0- SALIR\n",
            "ELIGE LA OPCION QUE DESEES\n",
            "0\n"
          ]
        }
      ],
      "source": [
        "opc=19\n",
        "regs=0\n",
        "lista = []\n",
        "while opc!=0:\n",
        "    print(\"MENU\")\n",
        "    print(\"1.- AGREGAR REGISTRO AUTOMATICO\")\n",
        "    print(\"2.- ELIMINAR\")\n",
        "    print(\"3.- IMPRIMIR LISTA\")\n",
        "    print(\"4.- BUSCAR\")\n",
        "    print(\"5.- BUSCAR COINCIDENCIAS DE APELLIDO\")\n",
        "    print(\"6.- ORDENAR\")\n",
        "    print(\"7.- GENERAR ARCHIVO\")\n",
        "    print(\"8.- CARGAR ARCHIVO\")\n",
        "    print(\"9.- IMPRIMIR ARCHIVO\")\n",
        "    print(\"10.- BORRAR TODA LA LISTA\")\n",
        "    print(\"0- SALIR\")\n",
        "    opc=int(input(\"ELIGE LA OPCION QUE DESEES\\n\"))\n",
        "    if opc==1:\n",
        "        for i in range(1,11):\n",
        "            lista.append(DiccAuto())\n",
        "            regs = regs+1\n",
        "    elif opc==2:\n",
        "        break\n",
        "    elif opc==3:\n",
        "        data = pd.DataFrame(lista)\n",
        "        print (data)\n",
        "    elif opc==7:\n",
        "        Genarch()\n",
        "    elif opc==10:\n",
        "        lista.clear()\n",
        "    elif opc==0:\n",
        "       break"
      ]
    }
  ],
  "metadata": {
    "colab": {
      "provenance": [],
      "authorship_tag": "ABX9TyMPA5REs8y3FUq620d6lrsF",
      "include_colab_link": true
    },
    "kernelspec": {
      "display_name": "Python 3",
      "name": "python3"
    },
    "language_info": {
      "name": "python"
    }
  },
  "nbformat": 4,
  "nbformat_minor": 0
}