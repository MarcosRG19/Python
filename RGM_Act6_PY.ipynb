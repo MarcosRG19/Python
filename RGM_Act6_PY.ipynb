{
  "nbformat": 4,
  "nbformat_minor": 0,
  "metadata": {
    "colab": {
      "provenance": [],
      "authorship_tag": "ABX9TyMk61gxVX4MvsH/JOAWxa+D",
      "include_colab_link": true
    },
    "kernelspec": {
      "name": "python3",
      "display_name": "Python 3"
    },
    "language_info": {
      "name": "python"
    }
  },
  "cells": [
    {
      "cell_type": "markdown",
      "metadata": {
        "id": "view-in-github",
        "colab_type": "text"
      },
      "source": [
        "<a href=\"https://colab.research.google.com/github/MarcosRG19/Python/blob/main/RGM_Act6_PY.ipynb\" target=\"_parent\"><img src=\"https://colab.research.google.com/assets/colab-badge.svg\" alt=\"Open In Colab\"/></a>"
      ]
    },
    {
      "cell_type": "markdown",
      "source": [
        "MENU"
      ],
      "metadata": {
        "id": "o3yiyON6PshX"
      }
    },
    {
      "cell_type": "code",
      "source": [
        "def Main():\n",
        "    try:\n",
        "        print(\"MENU\")\n",
        "        print(\"1.- Suma de numeros y media\")\n",
        "        print(\"2.- Numeros pares e impares aleatorios\")\n",
        "        print(\"3.- Validacion de numeros con suma y promedio\")\n",
        "        print(\"4.- Area de un triangulo\")\n",
        "        print(\"5.- Promedio de calificaciones validadas\")\n",
        "        opc=int(input(\"Elija la opcion que desee\\n\"))\n",
        "        if opc<1:\n",
        "            raise ValueError\n",
        "        if opc>6:\n",
        "            raise ValueError\n",
        "        if opc == 1:\n",
        "            SumayMedia()\n",
        "        elif opc==2:\n",
        "            PareseImpares()\n",
        "        elif opc==3:\n",
        "            Validypromed()\n",
        "        elif opc==4:\n",
        "            area()\n",
        "        elif opc==5:\n",
        "            Aprobarmateria()\n",
        "    except ValueError as e:\n",
        "        print(\"Introdujo un valor incorrecto\")\n",
        "    except TypeError:\n",
        "        print(\"Los valores deben ser del 1 al 5\")\n",
        "    except:\n",
        "        print(\"OCURRIO UN ERROR INESPERADO\")\n",
        "\n",
        "\n",
        "Main()"
      ],
      "metadata": {
        "colab": {
          "base_uri": "https://localhost:8080/"
        },
        "id": "bpV6gPMxPsPn",
        "outputId": "b38e8429-a2de-45df-a844-139ce36c17e8"
      },
      "execution_count": 57,
      "outputs": [
        {
          "output_type": "stream",
          "name": "stdout",
          "text": [
            "MENU\n",
            "1.- Suma de numeros y media\n",
            "2.- Numeros pares e impares aleatorios\n",
            "3.- Validacion de numeros con suma y promedio\n",
            "4.- Area de un triangulo\n",
            "5.- Promedio de calificaciones validadas\n",
            "Elija la opcion que desee\n",
            "2\n",
            "56 Es un numero PAR\n",
            "28 Es un numero PAR\n",
            "10 Es un numero PAR\n",
            "32 Es un numero PAR\n",
            "30 Es un numero PAR\n",
            "50 Es un numero PAR\n",
            "49 Es un numero IMPAR\n",
            "51 Es un numero IMPAR\n",
            "31 Es un numero IMPAR\n",
            "50 Es un numero PAR\n",
            "39 Es un numero IMPAR\n",
            "29 Es un numero IMPAR\n",
            "17 Es un numero IMPAR\n",
            "15 Es un numero IMPAR\n",
            "28 Es un numero PAR\n",
            "21 Es un numero IMPAR\n",
            "22 Es un numero PAR\n",
            "12 Es un numero PAR\n",
            "47 Es un numero IMPAR\n",
            "48 Es un numero PAR\n",
            "48 Es un numero PAR\n",
            "30 Es un numero PAR\n",
            "29 Es un numero IMPAR\n",
            "41 Es un numero IMPAR\n",
            "11 Es un numero IMPAR\n",
            "Fueron 13 Numeros pares y sumados dan un total de 444\n",
            "Fueron 12 Numeros impares y sumados dan un total de 380\n",
            "El promedio de los pares es 34.15384615384615\n",
            "El promedio de los impares es 31.666666666666668\n"
          ]
        }
      ]
    },
    {
      "cell_type": "markdown",
      "source": [
        "1.- FUNCIÓN QUE LEA n CANTIDAD DE NÚMEROS HASTA QUE EL USUARIO LO DESEE, DESPLEGAR LA SUMA DE LOS NÚMEROS, MEDIA Y VALOR DE LOS NÚMEROS MAYORES Y MENORES."
      ],
      "metadata": {
        "id": "wzOwJQQPPiW3"
      }
    },
    {
      "cell_type": "code",
      "execution_count": 41,
      "metadata": {
        "id": "VF6gavmSPbkg"
      },
      "outputs": [],
      "source": [
        "def SumayMedia():\n",
        "    suma=0\n",
        "    i=0\n",
        "    may=0\n",
        "    men=1000000000000000000000000000000\n",
        "    num=8\n",
        "    try:\n",
        "        while num!=0:\n",
        "            num=int(input(f\"Ingrese un numero o 0 Para salir\\n\"))\n",
        "            suma=suma+num\n",
        "            i=i+1\n",
        "            if num!=0:\n",
        "                if num>may:\n",
        "                    may=num\n",
        "                if num<men:\n",
        "                    men=num\n",
        "    except ZeroDivisionError:\n",
        "        print(\"Tiene que ingresar valores, no se puede dividir entre cero\")\n",
        "    except ValueError:\n",
        "        print(\"Error: El rango y los numeros ingresados deben ser enteros\")\n",
        "    else:\n",
        "        prom=suma/(i-1)\n",
        "        print(f\"La suma de los numeros dados dentro del rango es {suma}\")\n",
        "        print(f\"El promedio de los numeros dados dentro del rango es {prom}\")\n",
        "        print(f\"El numero mayor es {may}\")\n",
        "        print(f\"El numero menor es {men}\")"
      ]
    },
    {
      "cell_type": "markdown",
      "source": [
        "2.- FUNCIÓN QUE GENERE 15 NÚMEROS IMPARES ENTRE 10 Y 60 o MÁXIMO DE 25 NÚMEROS. DESPLEGAR LA MEDIA DE LOS PARES Y MEDIA DE IMPARES."
      ],
      "metadata": {
        "id": "nP0kRCmkPjdG"
      }
    },
    {
      "cell_type": "code",
      "source": [
        "def PareseImpares():\n",
        "    import random\n",
        "    par=0\n",
        "    impar=0\n",
        "    sumpar=0\n",
        "    sumimp=0\n",
        "    try:\n",
        "        for i in range(0,25,1):\n",
        "            num = random.randint(10,60)\n",
        "            if num%2==0:\n",
        "                par=par+1\n",
        "                sumpar=sumpar+num\n",
        "                print(f\"{num} Es un numero PAR\")\n",
        "            elif num%2!=0:\n",
        "                impar=impar+1\n",
        "                sumimp=sumimp+num\n",
        "                print(f\"{num} Es un numero IMPAR\")\n",
        "            if impar==15:\n",
        "                break\n",
        "        medimp=sumimp/impar\n",
        "        medpar=sumpar/par\n",
        "    except ValueError as e:\n",
        "        print(\"INGRESO UN VALOR ERRONEO\")\n",
        "    except:\n",
        "        print(\"Ocurrio un error inesperado\")\n",
        "    else:\n",
        "        if impar==15:\n",
        "            print(\"Se llego al limite de 15 numeros impares\")\n",
        "        print(f\"Fueron {par} Numeros pares y sumados dan un total de {sumpar}\")\n",
        "        print(f\"Fueron {impar} Numeros impares y sumados dan un total de {sumimp}\")\n",
        "        print(f\"El promedio de los pares es {medpar}\")\n",
        "        print(f\"El promedio de los impares es {medimp}\")\n",
        "PareseImpares()"
      ],
      "metadata": {
        "id": "VE1CpTkJPj82",
        "colab": {
          "base_uri": "https://localhost:8080/"
        },
        "outputId": "c6744acd-2bf7-457a-cb76-9fb708183505"
      },
      "execution_count": 42,
      "outputs": [
        {
          "output_type": "stream",
          "name": "stdout",
          "text": [
            "18 Es un numero PAR\n",
            "27 Es un numero IMPAR\n",
            "55 Es un numero IMPAR\n",
            "34 Es un numero PAR\n",
            "55 Es un numero IMPAR\n",
            "18 Es un numero PAR\n",
            "35 Es un numero IMPAR\n",
            "25 Es un numero IMPAR\n",
            "54 Es un numero PAR\n",
            "38 Es un numero PAR\n",
            "33 Es un numero IMPAR\n",
            "38 Es un numero PAR\n",
            "12 Es un numero PAR\n",
            "29 Es un numero IMPAR\n",
            "49 Es un numero IMPAR\n",
            "46 Es un numero PAR\n",
            "53 Es un numero IMPAR\n",
            "44 Es un numero PAR\n",
            "30 Es un numero PAR\n",
            "59 Es un numero IMPAR\n",
            "35 Es un numero IMPAR\n",
            "50 Es un numero PAR\n",
            "55 Es un numero IMPAR\n",
            "51 Es un numero IMPAR\n",
            "43 Es un numero IMPAR\n",
            "Fueron 11 Numeros pares y sumados dan un total de 382\n",
            "Fueron 14 Numeros impares y sumados dan un total de 604\n",
            "El promedio de los pares es 34.72727272727273\n",
            "El promedio de los impares es 43.142857142857146\n"
          ]
        }
      ]
    },
    {
      "cell_type": "markdown",
      "source": [
        "3.- FUNCIÓN QUE SIRVA PARA LEER UN RANGO DADO POR EL USUARIO. REPETIR ESTA ACCIÓN HASTA QUE EL USUARIO LO DESEE, DESPLEGAR CANTIDAD DE NUMEROS Y PROMEDIO DE LOS NUMEROS.."
      ],
      "metadata": {
        "id": "Fgiv8PVyPkPe"
      }
    },
    {
      "cell_type": "code",
      "source": [
        "def Validypromed():\n",
        "    suma=0\n",
        "    i=0\n",
        "    num=8\n",
        "    try:\n",
        "        rangmen=int(input(\"Ingresa el rango que desees \\nde: \"))\n",
        "        rangmay=int(input(\"a: \"))\n",
        "        while num!=0:\n",
        "            num=int(input(f\"Dame un numero en el rango entre {rangmen} y {rangmay} o 0 Para salir\\n\"))\n",
        "            if num>=rangmen and num<=rangmay:\n",
        "                suma=suma+num\n",
        "                i=i+1\n",
        "            else:\n",
        "                continue\n",
        "    except ValueError:\n",
        "        print(\"Error: El rango y los numeros ingresados deben ser enteros\")\n",
        "    except:\n",
        "        print(\"OCURRIO UN ERROR\")\n",
        "    else:\n",
        "        prom=suma/i\n",
        "        print(f\"Fueron {i} numeros ingresados\")\n",
        "        print(f\"El promedio de los numeros dados dentro del rango es {prom}\")"
      ],
      "metadata": {
        "id": "Ja0-i55EPkqe"
      },
      "execution_count": 43,
      "outputs": []
    },
    {
      "cell_type": "markdown",
      "source": [
        "\n",
        "4.- FUNCIÓN QUE RECIBA COMO PARÁMETRO LOS VALORES PARA EL ÁREA DE UN TRIANGULO Y RETORNE SU RESULTADO"
      ],
      "metadata": {
        "id": "jWwjga6GPlEW"
      }
    },
    {
      "cell_type": "code",
      "source": [
        "def area():\n",
        "    try:\n",
        "        base=int(input(\"Dame la medida de la base del triangulo \\n\"))\n",
        "        alt=int(input(\"Dame la medida de la altura del triangulo \\n\"))\n",
        "    except ValueError:\n",
        "        print(\"Error: El rango y los numeros ingresados deben ser enteros\")\n",
        "    except:\n",
        "        print(\"OCURRIO UN ERROR\")\n",
        "    else:\n",
        "        area = (base * alt)/2\n",
        "    return print(\"El area es =\", area)\n"
      ],
      "metadata": {
        "id": "nChFCsWUPla_"
      },
      "execution_count": 52,
      "outputs": []
    },
    {
      "cell_type": "markdown",
      "source": [
        "5.- FUNCION QUE SIRVA QUE SIRVA PARA EVALUAR EL PROMEDIO DE 3 CALIFICACIONES DADAS, SI EL USUARIO SU CALIFICACION ES APROBADA MANDAR MSGE QUE DIGA \"felicidades avanzas al siguiente semestre\", SI LA CALIFICACIONE ESTA REPROBADA EL MENSAGE \"repetir materia \" EL ALUMNO TENDRA UN MAXIMO DE CURSAR 3 VESES LA MATERIA, SI LA REPRUEBA 3 VESES MANDAR MSGE \" lastima estas fuera de la UABC\""
      ],
      "metadata": {
        "id": "lfaKel6ZQe-3"
      }
    },
    {
      "cell_type": "code",
      "source": [
        "def Aprobarmateria():\n",
        "    try:\n",
        "        for i in range(1,4,1):\n",
        "            calif1=int(input(\"Dame la calificacion 1\\n\"))\n",
        "            if calif1>100:\n",
        "                raise ValueError\n",
        "            if calif1<0:\n",
        "                raise ValueError\n",
        "            calif2=int(input(\"Dame la calificacion 2\\n\"))\n",
        "            if calif2>100:\n",
        "                raise ValueError\n",
        "            if calif2<0:\n",
        "                raise ValueError\n",
        "            calif3=int(input(\"Dame la calificacion 3\\n\"))\n",
        "            if calif3>100:\n",
        "                raise ValueError\n",
        "            if calif3<0:\n",
        "                raise ValueError\n",
        "            prom=(calif1+calif2+calif3)/3\n",
        "            if prom>=60:\n",
        "                break\n",
        "            elif i<3:\n",
        "                print(\"Repetir materia\")\n",
        "\n",
        "    except ValueError as e:\n",
        "        print(\"Introdujo un valor invalido\")\n",
        "    except TypeError:\n",
        "        print(\"Las calificaciones deben ser numeros enteros\")\n",
        "    except:\n",
        "        print(\"Hubo un error inesperado\")\n",
        "    else:\n",
        "        if prom>60:\n",
        "            print(\"felicidades avanzas al siguiente semestre\")\n",
        "        if i==3:\n",
        "            print(\"Lastima, estás fuera de la UABC\")\n"
      ],
      "metadata": {
        "id": "p3F7v4KhQfQ9"
      },
      "execution_count": 44,
      "outputs": []
    }
  ]
}