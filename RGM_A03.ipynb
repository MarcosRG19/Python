{
  "nbformat": 4,
  "nbformat_minor": 0,
  "metadata": {
    "colab": {
      "provenance": [],
      "authorship_tag": "ABX9TyNj/FUna4cs3XAy/fVCMV5V",
      "include_colab_link": true
    },
    "kernelspec": {
      "name": "python3",
      "display_name": "Python 3"
    },
    "language_info": {
      "name": "python"
    }
  },
  "cells": [
    {
      "cell_type": "markdown",
      "metadata": {
        "id": "view-in-github",
        "colab_type": "text"
      },
      "source": [
        "<a href=\"https://colab.research.google.com/github/MarcosRG19/Python/blob/main/RGM_A03.ipynb\" target=\"_parent\"><img src=\"https://colab.research.google.com/assets/colab-badge.svg\" alt=\"Open In Colab\"/></a>"
      ]
    },
    {
      "cell_type": "markdown",
      "source": [
        "1.- Algoritmo que lea 3 calificaciones calcule el promedio del alumno y desplegar:"
      ],
      "metadata": {
        "id": "-ajdXhsNBnkq"
      }
    },
    {
      "cell_type": "code",
      "execution_count": 14,
      "metadata": {
        "colab": {
          "base_uri": "https://localhost:8080/"
        },
        "id": "IyzD5iwDBl99",
        "outputId": "b6d02b9b-6bde-4144-c015-1f2056f7e8e2"
      },
      "outputs": [
        {
          "output_type": "stream",
          "name": "stdout",
          "text": [
            "Dame la primera calificación\n",
            "101\n",
            "Dame la segunda calificación\n",
            "101\n",
            "Dame la tercera calificación\n",
            "101\n",
            "ERROR EN PROMEDIO\n"
          ]
        }
      ],
      "source": [
        "calif1=int(input(\"Dame la primera calificación\\n\"))\n",
        "calif2=int(input(\"Dame la segunda calificación\\n\"))\n",
        "calif3=int(input(\"Dame la tercera calificación\\n\"))\n",
        "prom=(calif1+calif2+calif3)/3\n",
        "if prom<30:\n",
        "    print(\"REPETIR\")\n",
        "elif prom<60:\n",
        "    print(\"EXTRAORDINARIO\")\n",
        "elif prom<70:\n",
        "    print(\"SUFICIENTE\")\n",
        "elif prom<80:\n",
        "    print(\"REGULAR\")\n",
        "elif prom<90:\n",
        "    print(\"BIEN\")\n",
        "elif prom<98:\n",
        "    print(\"MUY BIEN\")\n",
        "elif prom<=100:\n",
        "    print(\"EXCELENTE\")\n",
        "else:\n",
        "    print(\"ERROR EN PROMEDIO\")"
      ]
    },
    {
      "cell_type": "markdown",
      "source": [
        "2.- Algoritmo que sirva para calcular el salario semanal de un trabajador donde se obtiene como dato de entrada las horas semanales trabajadas, el salario por hora.\n",
        "\n",
        "El programa deberá calcular el salario normal, salario extra y salario total"
      ],
      "metadata": {
        "id": "6VUzy3UXBpIX"
      }
    },
    {
      "cell_type": "code",
      "source": [
        "hrst=int(input(\"¿Cuantas horas trabajaste en la semana?\\n\"))\n",
        "salhr=int(input(\"¿Cuanto es tu salario por hora?\\n\"))\n",
        "if hrst<=40:\n",
        "    salnor=hrst*salhr\n",
        "    salext=0\n",
        "    saltot=salnor+salext\n",
        "    print(f\"SALARIO POR HORA: {salhr} \\nHORAS TRABAJADAS: {hrst} \\nSALARIO NORMAL: {salnor} \\nSALARIO EXTRA: {salext} \\nSALARIO TOTAL: {saltot} \\n\")\n",
        "elif hrst<=49:\n",
        "    salnor=salhr*40\n",
        "    salext=(hrst-40)*salhr*2\n",
        "    saltot=salnor+salext\n",
        "    print(f\"SALARIO POR HORA: {salhr} \\nHORAS TRABAJADAS: {hrst} \\nSALARIO NORMAL: {salnor} \\nSALARIO EXTRA: {salext} \\nSALARIO TOTAL: {saltot} \\n\")\n",
        "else:\n",
        "    salnor=salhr*40\n",
        "    salext=((salhr*9*2)+((hrst-49)*salhr*3))\n",
        "    saltot=salnor+salext\n",
        "    print(f\"SALARIO POR HORA: {salhr} \\nHORAS TRABAJADAS: {hrst} \\nSALARIO NORMAL: {salnor} \\nSALARIO EXTRA: {salext} \\nSALARIO TOTAL: {saltot} \\n\")\n"
      ],
      "metadata": {
        "colab": {
          "base_uri": "https://localhost:8080/"
        },
        "id": "KoCDTLYCBo__",
        "outputId": "3db8608c-6812-4440-ec3f-7d37203fa350"
      },
      "execution_count": 23,
      "outputs": [
        {
          "output_type": "stream",
          "name": "stdout",
          "text": [
            "¿Cuantas horas trabajaste en la semana?\n",
            "50\n",
            "¿Cuanto es tu salario por hora?\n",
            "50\n",
            "SALARIO POR HORA: 50 \n",
            "HORAS TRABAJADAS: 50 \n",
            "SALARIO NORMAL: 2000 \n",
            "SALARIO EXTRA: 1050 \n",
            "SALARIO TOTAL: 3050 \n",
            "\n"
          ]
        }
      ]
    },
    {
      "cell_type": "markdown",
      "source": [
        "3.- Algoritmo que sirva para desplegar el Total de una llamada telefónica donde se pide como datos de entrada los minutos y el tipo de llamada"
      ],
      "metadata": {
        "id": "bWlJlRalBqeA"
      }
    },
    {
      "cell_type": "code",
      "source": [
        "min=int(input(\"¿Cuantos minutos duró su llamada?\\n\"))\n",
        "tip=int(input(\"¿De que tipo fue su llamada?\\n1. LOCAL\\n2. NACIONAL\\n3. INTERNACIONAL\"))\n",
        "if tip==1:\n",
        "    subtot=min*3\n",
        "    iva=subtot*.16\n",
        "    total=subtot+iva\n",
        "    print(f\"SUBTOTAL: {subtot}\\nIVA(16%): {iva}\\nTOTAL: {total}\\n\")\n",
        "elif tip==2:\n",
        "    if min<=3:\n",
        "        subtot=min*7\n",
        "        iva=subtot*.16\n",
        "        total=subtot+iva\n",
        "        print(f\"SUBTOTAL: {subtot}\\nIVA(16%): {iva}\\nTOTAL: {total}\\n\")\n",
        "    else:\n",
        "        subtot=(7*3)+(min-3)*2\n",
        "        iva=subtot*.16\n",
        "        total=subtot+iva\n",
        "        print(f\"SUBTOTAL: {subtot}\\nIVA(16%): {iva}\\nTOTAL: {total}\\n\")\n",
        "elif tip==3:\n",
        "    if min<=2:\n",
        "        subtot=min*9\n",
        "        iva=subtot*.16\n",
        "        total=subtot+iva\n",
        "        print(f\"SUBTOTAL: {subtot}\\nIVA(16%): {iva}\\nTOTAL: {total}\\n\")\n",
        "    else:\n",
        "        subtot=(2*9)+(min-2)*4\n",
        "        iva=subtot*.16\n",
        "        total=subtot+iva\n",
        "        print(f\"SUBTOTAL: {subtot}\\nIVA(16%): {iva}\\nTOTAL: {total}\\n\")\n",
        "\n"
      ],
      "metadata": {
        "colab": {
          "base_uri": "https://localhost:8080/"
        },
        "id": "LR62kmKABqko",
        "outputId": "20f336f1-6f3d-45f7-da05-96afad72aabe"
      },
      "execution_count": 28,
      "outputs": [
        {
          "output_type": "stream",
          "name": "stdout",
          "text": [
            "¿Cuantos minutos duró su llamada?\n",
            "5\n",
            "¿De que tipo fue su llamada?\n",
            "1. LOCAL\n",
            "2. NACIONAL\n",
            "3. INTERNACIONAL3\n",
            "SUBTOTAL: 30\n",
            "IVA(16%): 4.8\n",
            "TOTAL: 34.8\n",
            "\n"
          ]
        }
      ]
    },
    {
      "cell_type": "markdown",
      "source": [
        "4.- Algoritmo que sirva para calcular el Total a pagar por consumo de agua, donde el dato de entrada son los M3 de agua consumidos"
      ],
      "metadata": {
        "id": "J0Gt10uvBqqH"
      }
    },
    {
      "cell_type": "code",
      "source": [
        "\n"
      ],
      "metadata": {
        "id": "EGGs8jTIBqvv"
      },
      "execution_count": null,
      "outputs": []
    },
    {
      "cell_type": "markdown",
      "source": [],
      "metadata": {
        "id": "ZtmHQu5aBq03"
      }
    },
    {
      "cell_type": "code",
      "source": [],
      "metadata": {
        "id": "ac2qL18OBq53"
      },
      "execution_count": null,
      "outputs": []
    },
    {
      "cell_type": "markdown",
      "source": [],
      "metadata": {
        "id": "ORk8LH8jBq_3"
      }
    },
    {
      "cell_type": "code",
      "source": [],
      "metadata": {
        "id": "mX4u0t6TBrGA"
      },
      "execution_count": null,
      "outputs": []
    }
  ]
}