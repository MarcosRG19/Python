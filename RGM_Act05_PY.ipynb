{
  "nbformat": 4,
  "nbformat_minor": 0,
  "metadata": {
    "colab": {
      "provenance": [],
      "authorship_tag": "ABX9TyP+0sEP14roxGgObE2Bq7c+",
      "include_colab_link": true
    },
    "kernelspec": {
      "name": "python3",
      "display_name": "Python 3"
    },
    "language_info": {
      "name": "python"
    }
  },
  "cells": [
    {
      "cell_type": "markdown",
      "metadata": {
        "id": "view-in-github",
        "colab_type": "text"
      },
      "source": [
        "<a href=\"https://colab.research.google.com/github/MarcosRG19/Python/blob/main/RGM_Act05_PY.ipynb\" target=\"_parent\"><img src=\"https://colab.research.google.com/assets/colab-badge.svg\" alt=\"Open In Colab\"/></a>"
      ]
    },
    {
      "cell_type": "markdown",
      "source": [
        "# **PARTE 1**"
      ],
      "metadata": {
        "id": "Q_3rGb8cuZqG"
      }
    },
    {
      "cell_type": "markdown",
      "source": [
        "1.- Programa en Python que genere 40 números aleatorios entre el 0 y 200, desplegar los números y la leyenda de cada número si es par o impar , la cantidad de los números pares e impares así como la suma de los números pares o impares."
      ],
      "metadata": {
        "id": "TnbscBUgG6OA"
      }
    },
    {
      "cell_type": "code",
      "execution_count": null,
      "metadata": {
        "id": "s7V8Gf0k_Y3_",
        "colab": {
          "base_uri": "https://localhost:8080/"
        },
        "outputId": "604a0767-894f-40b8-d3c1-06ddacf0d30e"
      },
      "outputs": [
        {
          "output_type": "stream",
          "name": "stdout",
          "text": [
            "48 Es un numero PAR\n",
            "4 Es un numero PAR\n",
            "190 Es un numero PAR\n",
            "42 Es un numero PAR\n",
            "98 Es un numero PAR\n",
            "44 Es un numero PAR\n",
            "199 Es un numero IMPAR\n",
            "103 Es un numero IMPAR\n",
            "6 Es un numero PAR\n",
            "182 Es un numero PAR\n",
            "94 Es un numero PAR\n",
            "65 Es un numero IMPAR\n",
            "79 Es un numero IMPAR\n",
            "161 Es un numero IMPAR\n",
            "155 Es un numero IMPAR\n",
            "115 Es un numero IMPAR\n",
            "65 Es un numero IMPAR\n",
            "53 Es un numero IMPAR\n",
            "45 Es un numero IMPAR\n",
            "175 Es un numero IMPAR\n",
            "140 Es un numero PAR\n",
            "146 Es un numero PAR\n",
            "198 Es un numero PAR\n",
            "17 Es un numero IMPAR\n",
            "187 Es un numero IMPAR\n",
            "199 Es un numero IMPAR\n",
            "170 Es un numero PAR\n",
            "46 Es un numero PAR\n",
            "180 Es un numero PAR\n",
            "191 Es un numero IMPAR\n",
            "67 Es un numero IMPAR\n",
            "159 Es un numero IMPAR\n",
            "61 Es un numero IMPAR\n",
            "187 Es un numero IMPAR\n",
            "111 Es un numero IMPAR\n",
            "59 Es un numero IMPAR\n",
            "12 Es un numero PAR\n",
            "46 Es un numero PAR\n",
            "24 Es un numero PAR\n",
            "191 Es un numero IMPAR\n",
            "Fueron 18 Numeros pares y sumados dan un total de 1670\n",
            "Fueron 22 Numeros impares y sumados dan un total de 2644\n"
          ]
        }
      ],
      "source": [
        "import random\n",
        "par=0\n",
        "impar=0\n",
        "sumpar=0\n",
        "sumimp=0\n",
        "try:\n",
        "    for i in range(0,40,1):\n",
        "        num = random.randint(0,200)\n",
        "        if num%2==0:\n",
        "            par=par+1\n",
        "            sumpar=sumpar+num\n",
        "            print(f\"{num} Es un numero PAR\")\n",
        "        elif num%2!=0:\n",
        "            impar=impar+1\n",
        "            sumimp=sumimp+num\n",
        "            print(f\"{num} Es un numero IMPAR\")\n",
        "    print(f\"Fueron {par} Numeros pares y sumados dan un total de {sumpar}\")\n",
        "    print(f\"Fueron {impar} Numeros impares y sumados dan un total de {sumimp}\")\n",
        "except:\n",
        "    print(\"Ocurrio un error inesperado\")"
      ]
    },
    {
      "cell_type": "markdown",
      "source": [
        "2.- Programa en Python que despliegue la tabla de multiplicar de un número dado (número entre el 1 y 20)."
      ],
      "metadata": {
        "id": "9avEKApEG8NP"
      }
    },
    {
      "cell_type": "code",
      "source": [
        "try:\n",
        "    tab = int(input(\"Dame el numero del que quieres la tabla (solo valores entre 1 y 20)\"))\n",
        "    if tab <1 or tab > 20:\n",
        "        raise ValueError(\"El numero debe ser sentre 1 y 20\")\n",
        "except ValueError as e:\n",
        "    print(\"Error\", e)\n",
        "except TypeError:\n",
        "    print(\"El numero debe de ser un entero\")\n",
        "except:\n",
        "    print(\"Error inesperado\")\n",
        "else:\n",
        "    for i in range(1,11,1):\n",
        "        res=tab*i\n",
        "        print(f\"{tab} * {i} = {res}\")\n",
        "\n",
        "\n",
        "\n"
      ],
      "metadata": {
        "colab": {
          "base_uri": "https://localhost:8080/"
        },
        "id": "-67c_X6jG8kP",
        "outputId": "80154ef1-4e33-458d-fc2b-fc6bacb4cff7"
      },
      "execution_count": null,
      "outputs": [
        {
          "output_type": "stream",
          "name": "stdout",
          "text": [
            "Dame el numero del que quieres la tabla (solo valores entre 1 y 20)15\n",
            "15 * 1 = 15\n",
            "15 * 2 = 30\n",
            "15 * 3 = 45\n",
            "15 * 4 = 60\n",
            "15 * 5 = 75\n",
            "15 * 6 = 90\n",
            "15 * 7 = 105\n",
            "15 * 8 = 120\n",
            "15 * 9 = 135\n",
            "15 * 10 = 150\n"
          ]
        }
      ]
    },
    {
      "cell_type": "markdown",
      "source": [
        "3.- Programa en Python que lea una calificación, las calificación deberá estar en el rango de 0 a 100, si hay un error de captura, mostrar mensaje de error. con la calificación correcta mostrar msg de aprobado reprobado."
      ],
      "metadata": {
        "id": "CnaOC5tAG81_"
      }
    },
    {
      "cell_type": "code",
      "source": [
        "try:\n",
        "    calif=int(input(\"Dame tu calificación\"))\n",
        "    if calif<0 or calif>100:\n",
        "        raise ValueError(\"El valor de tu calificacion debe de ser entre 0 y 100\")\n",
        "except ValueError as e:\n",
        "    print(\"Error\", e)\n",
        "except TypeError:\n",
        "    print(\"El valor de tu calificacion debe de ser un entero\")\n",
        "except:\n",
        "    print(\"Ocurrio un error inesperado\")\n",
        "else:\n",
        "    if calif>=60:\n",
        "        print(\"FELICIDADES ESTAS APROBADO\")\n",
        "    else:\n",
        "        print(\"LO SENTIMOS, ESTAS REPROBADO\")"
      ],
      "metadata": {
        "id": "ddbGucl6G9NH",
        "colab": {
          "base_uri": "https://localhost:8080/"
        },
        "outputId": "e6caf3aa-9772-434f-9ca9-95cf1e3ee656"
      },
      "execution_count": null,
      "outputs": [
        {
          "output_type": "stream",
          "name": "stdout",
          "text": [
            "Dame tu calificación110\n",
            "Error El valor de tu calificacion debe de ser entre 0 y 100\n"
          ]
        }
      ]
    },
    {
      "cell_type": "markdown",
      "source": [
        "4.- Programa en Python que lea n cantidad de números enteros dentro de un rango dado (> 0 ) , el programa deberá terminar cuando el usuario introduzca el número cero.\n",
        "\n",
        "desplegar la suma de números y la media."
      ],
      "metadata": {
        "id": "N_s6g22yG-u_"
      }
    },
    {
      "cell_type": "code",
      "source": [
        "suma=0\n",
        "i=0\n",
        "try:\n",
        "    rangmen=int(input(\"Ingresa el rango que desees \\nde: \"))\n",
        "    rangmay=int(input(\"a: \"))\n",
        "    while num!=0:\n",
        "        num=int(input(f\"Dame un numero en el rango entre {rangmen} y {rangmay} \"))\n",
        "        if num>=rangmen and num<=rangmay:\n",
        "            suma=suma+num\n",
        "            i=i+1\n",
        "        else:\n",
        "            continue\n",
        "except ValueError:\n",
        "    print(\"Error: El rango y los numeros ingresados deben ser enteros\")\n",
        "else:\n",
        "    prom=suma/i\n",
        "    print(f\"La suma de los numeros dados dentro del rango es {suma}\")\n",
        "    print(f\"El promedio de los numeros dados dentro del rango es {prom}\")\n",
        "\n"
      ],
      "metadata": {
        "id": "ftAk5FvvG_HX",
        "colab": {
          "base_uri": "https://localhost:8080/"
        },
        "outputId": "26eab228-7591-4212-8af0-40e375ab15d1"
      },
      "execution_count": null,
      "outputs": [
        {
          "output_type": "stream",
          "name": "stdout",
          "text": [
            "Ingresa el rango que desees \n",
            "de: 15.5\n",
            "Error: El rango y los numeros ingresados deben ser enteros\n"
          ]
        }
      ]
    },
    {
      "cell_type": "markdown",
      "source": [
        "5.- Programa en Python que sirva para leer el promedio de una materia. donde el usuario tendrá un máximo de 3 oportunidades de cursar la materia, si el promedio es aprobado, felicitarlo y continuar el siguiente semestre, si promedio es reprobado deberá salir mensaje de repetir materia o es baja académica si ha reprobado 3 veces."
      ],
      "metadata": {
        "id": "yDlp3leWG_sP"
      }
    },
    {
      "cell_type": "code",
      "source": [
        "try:\n",
        "    for i in range(1,4,1):\n",
        "        calif1=int(input(\"Dame la calificacion del parcial 1\\n\"))\n",
        "        calif2=int(input(\"Dame la calificacion del parcial 2\\n\"))\n",
        "        calif3=int(input(\"Dame la calificacion del parcial 3\\n\"))\n",
        "        prom=(calif1+calif2+calif3)/3\n",
        "        if prom>60:\n",
        "            print(\"Felicidad APROBASTE\")\n",
        "            break\n",
        "        elif i<3:\n",
        "            print(\"REPROBASTE debes reperit la materia\")\n",
        "except ValueError:\n",
        "    print(\"Las calificaciones deben ser numeros enteros\")\n",
        "except:\n",
        "    print(\"ERROR INESPERADO\")\n",
        "else:\n",
        "    if i==3:\n",
        "        print(\"Reprobaste 3 veces la materia. BAJA ACADEMICA\")\n",
        "\n"
      ],
      "metadata": {
        "id": "ivgfz4CxHACn",
        "colab": {
          "base_uri": "https://localhost:8080/"
        },
        "outputId": "a38221af-9641-430e-e445-439cd515c454"
      },
      "execution_count": null,
      "outputs": [
        {
          "output_type": "stream",
          "name": "stdout",
          "text": [
            "Dame la calificacion del parcial 150\n",
            "Dame la calificacion del parcial 250\n",
            "Dame la calificacion del parcial 350\n",
            "REPROBASTE debes reperit la materia\n",
            "Dame la calificacion del parcial 150\n",
            "Dame la calificacion del parcial 250\n",
            "Dame la calificacion del parcial 350\n",
            "REPROBASTE debes reperit la materia\n",
            "Dame la calificacion del parcial 150\n",
            "Dame la calificacion del parcial 250\n",
            "Dame la calificacion del parcial 350\n",
            "Reprobaste 3 veces la materia. BAJA ACADEMICA\n"
          ]
        }
      ]
    },
    {
      "cell_type": "markdown",
      "source": [
        "## **PARTE 2**"
      ],
      "metadata": {
        "id": "ieXj494tKYcr"
      }
    },
    {
      "cell_type": "code",
      "source": [
        "def Main():\n",
        "    print(\"MENU\")\n",
        "    print(\"1.- Suma de numeros y media\")\n",
        "    print(\"2.- Numeros pares e impares aleatorios\")\n",
        "    print(\"3.- Validacion de numeros con suma y promedio\")\n",
        "    print(\"4.- Area de un triangulo\")\n",
        "    print(\"5.- Validacion de un numero\")\n",
        "    opc=int(input(\"Elija la opcion que desee\\n\"))\n",
        "    if opc==1:\n",
        "        SumayMedia()\n",
        "    elif opc==2:\n",
        "        PareseImpares()\n",
        "    elif opc==3:\n",
        "        Validypromed()\n",
        "    elif opc==4:\n",
        "        area()\n",
        "    elif opc==5:\n",
        "        Validar()\n",
        "\n",
        "Main()"
      ],
      "metadata": {
        "colab": {
          "base_uri": "https://localhost:8080/"
        },
        "id": "BXCVGQ0EzCTm",
        "outputId": "e170c4a2-bcec-4436-cb16-1fe65dcbd65a"
      },
      "execution_count": 55,
      "outputs": [
        {
          "output_type": "stream",
          "name": "stdout",
          "text": [
            "MENU\n",
            "1.- Suma de numeros y media\n",
            "2.- Numeros pares e impares aleatorios\n",
            "3.- Validacion de numeros con suma y promedio\n",
            "4.- Area de un triangulo\n",
            "5.- Validacion de un numero\n",
            "Elija la opcion que desee\n",
            "5\n",
            "Ingresa el rango que desees \n",
            "de: 10\n",
            "a: 20\n",
            "Dame un numero en el rango entre 10 y 20\n",
            "5\n",
            "El numero está fuera del rango\n"
          ]
        }
      ]
    },
    {
      "cell_type": "markdown",
      "source": [
        "1.- función que lea n cantidad de números hasta que el usuario lo desee, desplegar la suma de los números, media y valor de los números mayores y menores."
      ],
      "metadata": {
        "id": "TRL9CZWOKl-S"
      }
    },
    {
      "cell_type": "code",
      "source": [
        "def SumayMedia():\n",
        "    suma=0\n",
        "    i=0\n",
        "    may=0\n",
        "    men=100000000000\n",
        "    num=8\n",
        "    try:\n",
        "        while num!=0:\n",
        "            num=int(input(f\"Ingrese un numero o 0 Para salir\\n\"))\n",
        "            suma=suma+num\n",
        "            i=i+1\n",
        "            if num!=0:\n",
        "                if num>may:\n",
        "                    may=num\n",
        "                if num<men:\n",
        "                    men=num\n",
        "\n",
        "    except ValueError:\n",
        "        print(\"Error: El rango y los numeros ingresados deben ser enteros\")\n",
        "    else:\n",
        "        prom=suma/(i-1)\n",
        "        print(f\"La suma de los numeros dados dentro del rango es {suma}\")\n",
        "        print(f\"El promedio de los numeros dados dentro del rango es {prom}\")\n",
        "        print(f\"El numero mayor es {may}\")\n",
        "        print(f\"El numero menot es {men}\")"
      ],
      "metadata": {
        "id": "tkI0VgnmLWgp"
      },
      "execution_count": 14,
      "outputs": []
    },
    {
      "cell_type": "markdown",
      "source": [
        "2.- función que genere 15 números impares entre 10 y 60 o máximo de 25 números. desplegar la media de los pares y media de impares."
      ],
      "metadata": {
        "id": "FIVYYBf8LXBB"
      }
    },
    {
      "cell_type": "code",
      "source": [
        "def PareseImpares():\n",
        "    import random\n",
        "    par=0\n",
        "    impar=0\n",
        "    sumpar=0\n",
        "    sumimp=0\n",
        "    try:\n",
        "        for i in range(0,25,1):\n",
        "            num = random.randint(10,60)\n",
        "            if num%2==0:\n",
        "                par=par+1\n",
        "                sumpar=sumpar+num\n",
        "                print(f\"{num} Es un numero PAR\")\n",
        "            elif num%2!=0:\n",
        "                impar=impar+1\n",
        "                sumimp=sumimp+num\n",
        "                print(f\"{num} Es un numero IMPAR\")\n",
        "            if impar==15:\n",
        "                break\n",
        "        medimp=sumimp/impar\n",
        "        medpar=sumpar/par\n",
        "    except:\n",
        "        print(\"Ocurrio un error inesperado\")\n",
        "    else:\n",
        "        if impar==15:\n",
        "            print(\"Se llego al limite de 15 numeros impares\")\n",
        "        print(f\"Fueron {par} Numeros pares y sumados dan un total de {sumpar}\")\n",
        "        print(f\"Fueron {impar} Numeros impares y sumados dan un total de {sumimp}\")\n",
        "        print(f\"El promedio de los pares es {medpar}\")\n",
        "        print(f\"El promedio de los impares es {medimp}\")\n",
        "PareseImpares()"
      ],
      "metadata": {
        "id": "jtIg7juELW3B",
        "colab": {
          "base_uri": "https://localhost:8080/"
        },
        "outputId": "02e6b059-5484-4cae-d6fe-4229dbc06cd2"
      },
      "execution_count": 27,
      "outputs": [
        {
          "output_type": "stream",
          "name": "stdout",
          "text": [
            "23 Es un numero IMPAR\n",
            "49 Es un numero IMPAR\n",
            "17 Es un numero IMPAR\n",
            "59 Es un numero IMPAR\n",
            "36 Es un numero PAR\n",
            "12 Es un numero PAR\n",
            "55 Es un numero IMPAR\n",
            "47 Es un numero IMPAR\n",
            "29 Es un numero IMPAR\n",
            "50 Es un numero PAR\n",
            "16 Es un numero PAR\n",
            "39 Es un numero IMPAR\n",
            "28 Es un numero PAR\n",
            "25 Es un numero IMPAR\n",
            "53 Es un numero IMPAR\n",
            "50 Es un numero PAR\n",
            "22 Es un numero PAR\n",
            "29 Es un numero IMPAR\n",
            "44 Es un numero PAR\n",
            "23 Es un numero IMPAR\n",
            "33 Es un numero IMPAR\n",
            "37 Es un numero IMPAR\n",
            "23 Es un numero IMPAR\n",
            "Se llego al limite de 15 numeros impares\n",
            "Fueron 8 Numeros pares y sumados dan un total de 258\n",
            "Fueron 15 Numeros impares y sumados dan un total de 541\n",
            "El promedio de los pares es 32.25\n",
            "El promedio de los impares es 36.06666666666667\n"
          ]
        }
      ]
    },
    {
      "cell_type": "markdown",
      "source": [
        "3.- función que sirva para leer y validar un número dentro de un rango dado por el usuario. repetir esta acción hasta que el usuario lo desee, desplegar cantidad de números y promedio de los números."
      ],
      "metadata": {
        "id": "Qe9c1Hh-LWtx"
      }
    },
    {
      "cell_type": "code",
      "source": [
        "def Validypromed():\n",
        "    suma=0\n",
        "    i=0\n",
        "    num=8\n",
        "    try:\n",
        "        rangmen=int(input(\"Ingresa el rango que desees \\nde: \"))\n",
        "        rangmay=int(input(\"a: \"))\n",
        "        while num!=0:\n",
        "            num=int(input(f\"Dame un numero en el rango entre {rangmen} y {rangmay} o 0 Para salir\\n\"))\n",
        "            if num>=rangmen and num<=rangmay:\n",
        "                suma=suma+num\n",
        "                i=i+1\n",
        "            else:\n",
        "                continue\n",
        "    except ValueError:\n",
        "        print(\"Error: El rango y los numeros ingresados deben ser enteros\")\n",
        "    else:\n",
        "        prom=suma/i\n",
        "        print(f\"Fueron {i} numeros ingresados\")\n",
        "        print(f\"El promedio de los numeros dados dentro del rango es {prom}\")"
      ],
      "metadata": {
        "id": "FC_UqRz4LYY5",
        "colab": {
          "base_uri": "https://localhost:8080/"
        },
        "outputId": "fd18ace8-f2de-43e3-f798-df9904ab8fa8"
      },
      "execution_count": 31,
      "outputs": [
        {
          "output_type": "stream",
          "name": "stdout",
          "text": [
            "Ingresa el rango que desees \n",
            "de: 10\n",
            "a: 20\n",
            "Dame un numero en el rango entre 10 y 20 o 0 Para salir15\n",
            "Dame un numero en el rango entre 10 y 20 o 0 Para salir45\n",
            "Dame un numero en el rango entre 10 y 20 o 0 Para salir10\n",
            "Dame un numero en el rango entre 10 y 20 o 0 Para salir20\n",
            "Dame un numero en el rango entre 10 y 20 o 0 Para salir0\n",
            "Fueron 3 numeros ingresados\n",
            "El promedio de los numeros dados dentro del rango es 15.0\n"
          ]
        }
      ]
    },
    {
      "cell_type": "markdown",
      "source": [
        "4.- función que reciba como parámetro los valores para el área de un triángulo y retorne su resultado"
      ],
      "metadata": {
        "id": "IBiaReE2LzoZ"
      }
    },
    {
      "cell_type": "code",
      "source": [
        "def area(base,alt):\n",
        "    base=int(input(\"Dame la medida de la base del triangulo \\n\"))\n",
        "    alt=int(input(\"Dame la medida de la altura del triangulo \\n\"))\n",
        "    area = (base * alt)/2\n",
        "    return print(f\"El area del triangulo es = \",base*alt/2)"
      ],
      "metadata": {
        "id": "5ziRvdrGLzf5",
        "colab": {
          "base_uri": "https://localhost:8080/"
        },
        "outputId": "891ab8c0-541c-4e8f-ae45-93051aa88eb0"
      },
      "execution_count": 52,
      "outputs": [
        {
          "output_type": "stream",
          "name": "stdout",
          "text": [
            "Dame la medida de la base del triangulo \n",
            "10\n",
            "Dame la medida de la altura del triangulo \n",
            "5\n",
            "El area del triangulo es =  25.0\n"
          ]
        }
      ]
    },
    {
      "cell_type": "markdown",
      "source": [
        "5.- función que sirva para validar un número dentro de un rango dado."
      ],
      "metadata": {
        "id": "u6qnW9adLzTJ"
      }
    },
    {
      "cell_type": "code",
      "source": [
        "def Validar():\n",
        "    num=8\n",
        "    try:\n",
        "        rangmen=int(input(\"Ingresa el rango que desees \\nde: \"))\n",
        "        rangmay=int(input(\"a: \"))\n",
        "        num=int(input(f\"Dame un numero en el rango entre {rangmen} y {rangmay}\\n\"))\n",
        "        if num>=rangmen and num<=rangmay:\n",
        "            print(f\"El numero {num} está dentro del rango dado\")\n",
        "        else:\n",
        "            print(\"El numero está fuera del rango\")\n",
        "    except ValueError:\n",
        "        print(\"Error: El rango y los numeros ingresados deben ser enteros\")"
      ],
      "metadata": {
        "id": "uFuket07L2mQ",
        "colab": {
          "base_uri": "https://localhost:8080/"
        },
        "outputId": "3aa2c02d-aa1b-40bf-85f0-275bea16a9bb"
      },
      "execution_count": 54,
      "outputs": [
        {
          "output_type": "stream",
          "name": "stdout",
          "text": [
            "Ingresa el rango que desees \n",
            "de: 10\n",
            "a: 20\n",
            "Dame un numero en el rango entre 10 y 20\n",
            "5\n",
            "El numero está fuera del rango\n"
          ]
        }
      ]
    }
  ]
}