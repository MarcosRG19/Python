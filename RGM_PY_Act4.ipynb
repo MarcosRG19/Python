{
  "nbformat": 4,
  "nbformat_minor": 0,
  "metadata": {
    "colab": {
      "provenance": [],
      "authorship_tag": "ABX9TyO+eqG1tc7iA790GTYGacjX",
      "include_colab_link": true
    },
    "kernelspec": {
      "name": "python3",
      "display_name": "Python 3"
    },
    "language_info": {
      "name": "python"
    }
  },
  "cells": [
    {
      "cell_type": "markdown",
      "metadata": {
        "id": "view-in-github",
        "colab_type": "text"
      },
      "source": [
        "<a href=\"https://colab.research.google.com/github/MarcosRG19/Python/blob/main/RGM_PY_Act4.ipynb\" target=\"_parent\"><img src=\"https://colab.research.google.com/assets/colab-badge.svg\" alt=\"Open In Colab\"/></a>"
      ]
    },
    {
      "cell_type": "markdown",
      "source": [
        "1.- Programa en python   que lea 3 calificaciones calcule el promedio del alumno"
      ],
      "metadata": {
        "id": "eHdVzgPKKsGr"
      }
    },
    {
      "cell_type": "code",
      "execution_count": 4,
      "metadata": {
        "colab": {
          "base_uri": "https://localhost:8080/"
        },
        "id": "aY7eM7VpKIrY",
        "outputId": "1b0f915c-6c7c-45ea-ef8d-53cc24685094"
      },
      "outputs": [
        {
          "output_type": "stream",
          "name": "stdout",
          "text": [
            "Dame la calificación 1 \n",
            "40.56\n",
            "Error: Las calificaciones deben ser valores enteros\n"
          ]
        }
      ],
      "source": [
        "try:\n",
        "    calif1=int(input(\"Dame la calificación 1 \\n\"))\n",
        "    calif2=int(input(\"Dame la calificación 2 \\n\"))\n",
        "    calif3=int(input(\"Dame la calificación 3 \\n\"))\n",
        "except:\n",
        "    print(\"Error: Las calificaciones deben ser valores enteros\")\n",
        "else:\n",
        "    prom=(calif1+calif2+calif3)/3\n",
        "    if prom<30:\n",
        "        print(\"REPETIR\")\n",
        "    elif prom<60:\n",
        "        print(\"EXTRAORDINARIO\")\n",
        "    elif prom<70:\n",
        "        print(\"SUFICIENTE\")\n",
        "    elif prom<80:\n",
        "        print(\"REGULAR\")\n",
        "    elif prom<90:\n",
        "        print(\"BIEN\")\n",
        "    elif prom<98:\n",
        "        print(\"MUY BIEN\")\n",
        "    elif prom<=100:\n",
        "        print(\"EXCELENTE\")\n",
        "    else:\n",
        "        print(\"ERROR EN PROMEDIO\")\n",
        "\n",
        "\n"
      ]
    },
    {
      "cell_type": "markdown",
      "source": [
        "2.- Programa en Python que sirva para calcular el salario semanal de un trabajador donde se obtiene como dato de entrada las horas semanales trabajadas, el salario por hora."
      ],
      "metadata": {
        "id": "rOx6gUVsSgIp"
      }
    },
    {
      "cell_type": "code",
      "source": [
        "try:\n",
        "    hrst=int(input(\"¿Cuantas horas trabajaste en la semana?\\n\"))\n",
        "    salhr=int(input(\"¿Cuanto es tu salario por hora?\\n\"))\n",
        "except:\n",
        "    print(\"ERROR EN CAPTURA DE DATOS\")\n",
        "else:\n",
        "    if  hrst<=40:\n",
        "        salnor=hrst*salhr\n",
        "        salext=0\n",
        "        saltot=salnor+salext\n",
        "        print(f\"SALARIO POR HORA: {salhr} \\nHORAS TRABAJADAS: {hrst} \\nSALARIO NORMAL: {salnor} \\nSALARIO EXTRA: {salext} \\nSALARIO TOTAL: {saltot} \\n\")\n",
        "    elif hrst<=49:\n",
        "        salnor=salhr*40\n",
        "        salext=(hrst-40)*salhr*2\n",
        "        saltot=salnor+salext\n",
        "        print(f\"SALARIO POR HORA: {salhr} \\nHORAS TRABAJADAS: {hrst} \\nSALARIO NORMAL: {salnor} \\nSALARIO EXTRA: {salext} \\nSALARIO TOTAL: {saltot} \\n\")\n",
        "    else:\n",
        "        salnor=salhr*40\n",
        "        salext=((salhr*9*2)+((hrst-49)*salhr*3))\n",
        "        saltot=salnor+salext\n",
        "        print(f\"SALARIO POR HORA: {salhr} \\nHORAS TRABAJADAS: {hrst} \\nSALARIO NORMAL: {salnor} \\nSALARIO EXTRA: {salext} \\nSALARIO TOTAL: {saltot} \\n\")"
      ],
      "metadata": {
        "id": "UYk0O1HwShvR",
        "colab": {
          "base_uri": "https://localhost:8080/"
        },
        "outputId": "11860195-4b84-4715-dcff-06b1976ced75"
      },
      "execution_count": 3,
      "outputs": [
        {
          "output_type": "stream",
          "name": "stdout",
          "text": [
            "¿Cuantas horas trabajaste en la semana?\n",
            "50\n",
            "¿Cuanto es tu salario por hora?\n",
            "50.2\n",
            "ERROR EN CAPTURA DE DATOS\n"
          ]
        }
      ]
    },
    {
      "cell_type": "markdown",
      "source": [
        "3.- Programa en Python que sirva para calcular el Total a pagar por consumo de agua, donde el dato de entrada son los M3 de agua consumidos"
      ],
      "metadata": {
        "id": "T13WUn08Sheh"
      }
    },
    {
      "cell_type": "code",
      "source": [
        "try:\n",
        "    metros3=int(input(\"¿Cuantos metros cubicos consumió?(NUMERO ENTERO)\"))\n",
        "except ValueError:\n",
        "    print(\"QUE PARTE DE ENTEROS NO ENTIENDES!!\")\n",
        "except TypeError as e:\n",
        "    print(f\"Error {e}\")\n",
        "else:\n",
        "    if metros3 <=4:\n",
        "        subtot=50\n",
        "        iva=subtot*.16\n",
        "        total=subtot+iva\n",
        "        print(f\"SUBTOTAL: {subtot}\\nIVA(16%): {iva}\\nTOTAL: {total}\\n\")\n",
        "    elif metros3<=15:\n",
        "        subtot=metros3*8\n",
        "        iva=subtot*.16\n",
        "        total=subtot+iva\n",
        "        print(f\"SUBTOTAL: {subtot}\\nIVA(16%): {iva}\\nTOTAL: {total}\\n\")\n",
        "    elif metros3<=50:\n",
        "        subtot=metros3*10\n",
        "        iva=subtot*.16\n",
        "        total=subtot+iva\n",
        "        print(f\"SUBTOTAL: {subtot}\\nIVA(16%): {iva}\\nTOTAL: {total}\\n\")\n",
        "    else:\n",
        "        subtot=metros3*11\n",
        "        iva=subtot*.16\n",
        "        total=subtot+iva\n",
        "        print(f\"SUBTOTAL: {subtot}\\nIVA(16%): {iva}\\nTOTAL: {total}\\n\")"
      ],
      "metadata": {
        "id": "y6UXLfoNShQJ",
        "colab": {
          "base_uri": "https://localhost:8080/"
        },
        "outputId": "ed0049dc-0f07-4e68-d3cc-51b14b8cf323"
      },
      "execution_count": 2,
      "outputs": [
        {
          "output_type": "stream",
          "name": "stdout",
          "text": [
            "¿Cuantos metros cubicos consumió?(NUMERO ENTERO)15.5\n",
            "QUE PARTE DE ENTEROS NO ENTIENDES!!\n"
          ]
        }
      ]
    },
    {
      "cell_type": "markdown",
      "source": [
        "4- En la materia de Metodología de la programación se aplican 5 exámenes, calcular el promedio final de la materia donde la calificación menor de los exámenes se anula y el promedio se calcula en base a 4 exámenes."
      ],
      "metadata": {
        "id": "nvbbwfiMShCp"
      }
    },
    {
      "cell_type": "code",
      "source": [
        "try:\n",
        "    calif1=int(input(\"Dame la calificación 1\\n\"))\n",
        "    calif2=int(input(\"Dame la calificación 2\\n\"))\n",
        "    calif3=int(input(\"Dame la calificación 3\\n\"))\n",
        "    calif4=int(input(\"Dame la calificación 4\\n\"))\n",
        "    calif5=int(input(\"Dame la calificación 5\\n\"))\n",
        "except:\n",
        "    print(\"Error en captura de calificaciones: Los valores deben ser numeros enteros\")\n",
        "else:\n",
        "    menor=calif1\n",
        "    if calif2<menor:\n",
        "        menor=calif2\n",
        "    if calif3<menor:\n",
        "        menor=calif3\n",
        "    if calif4<menor:\n",
        "        menor=calif4\n",
        "    if calif5<menor:\n",
        "        menor=calif5\n",
        "    prom=(calif1+calif2+calif3+calif4+calif5-menor)/4\n",
        "    print(f\"El promedio del alumno es: {prom}\")"
      ],
      "metadata": {
        "id": "TBn1f33cSgsJ",
        "colab": {
          "base_uri": "https://localhost:8080/"
        },
        "outputId": "0559f249-4869-4807-d9c4-48b400524978"
      },
      "execution_count": 7,
      "outputs": [
        {
          "output_type": "stream",
          "name": "stdout",
          "text": [
            "Dame la calificación 1\n",
            "50.56\n",
            "Error en captura de calificaciones: Los valores deben ser numeros enteros\n"
          ]
        }
      ]
    },
    {
      "cell_type": "markdown",
      "source": [
        "5.- Programa en Python que sirva para el juego del CHINCHAMPU (Piedra, Papel, Tijera) para 1 jugador y la computadora"
      ],
      "metadata": {
        "id": "OlhnfqgfSjRB"
      }
    },
    {
      "cell_type": "code",
      "source": [
        "from random import randint\n",
        "opc=int(input(\"Elige tu tirada\\n 1. Piedra \\n 2. Papel \\n 3. Tijera\\n\"))\n",
        "gameopc=randint(1,3)\n",
        "try:\n",
        "    if opc<1 or opc>3:\n",
        "        raise Exception('negative')\n",
        "except Exception as inst:\n",
        "        print(f\"ERROR. TU NUMERO DE OPCION NO PUEDE SER NEGATIVA\".format(inst))\n",
        "else:\n",
        "    if opc==1:\n",
        "        if gameopc==1:\n",
        "            print(\"Tu eleccion fue: PIEDRA\\n La eleccion de la computadora fue: PIEDRA\\n EMPATE\")\n",
        "        elif gameopc==2:\n",
        "            print(\"Tu eleccion fue: PIEDRA\\n La eleccion de la computadora fue: PAPEL\\n PERDISTE\")\n",
        "        elif gameopc==3:\n",
        "            print(\"Tu eleccion fue: PIEDRA\\n La eleccion de la computadora fue: TIJERAS\\n GANASTE\")\n",
        "    elif opc==2:\n",
        "        if gameopc==1:\n",
        "            print(\"Tu eleccion fue: PAPEL\\n La eleccion de la computadora fue: PIEDRA\\n GANASTE\")\n",
        "        elif gameopc==2:\n",
        "            print(\"Tu eleccion fue: PAPEL\\n La eleccion de la computadora fue: PAPEL\\n EMPATE\")\n",
        "        elif gameopc==3:\n",
        "            print(\"Tu eleccion fue: PAPEL\\n La eleccion de la computadora fue: TIJERAS\\n PERDISTE\")\n",
        "    elif opc==3:\n",
        "        if gameopc==1:\n",
        "            print(\"Tu eleccion fue: TIJERAS\\n La eleccion de la computadora fue: PIEDRA\\n PERDISTE\")\n",
        "        elif gameopc==2:\n",
        "            print(\"Tu eleccion fue: TIJERAS\\n La eleccion de la computadora fue: PAPEL\\n GANASTE\")\n",
        "        elif gameopc==3:\n",
        "            print(\"Tu eleccion fue: TIJERAS\\n La eleccion de la computadora fue: TIJERAS\\n EMPATE\")\n",
        "    print(f\"{gameopc}\")"
      ],
      "metadata": {
        "id": "FnoykZiwSj2J",
        "colab": {
          "base_uri": "https://localhost:8080/"
        },
        "outputId": "7f168b34-becf-43ea-d6fa-cac8ecf93e79"
      },
      "execution_count": 11,
      "outputs": [
        {
          "output_type": "stream",
          "name": "stdout",
          "text": [
            "Elige tu tirada\n",
            " 1. Piedra \n",
            " 2. Papel \n",
            " 3. Tijera\n",
            "0\n",
            "ERROR. TU NUMERO DE OPCION NO PUEDE SER NEGATIVA\n"
          ]
        }
      ]
    },
    {
      "cell_type": "markdown",
      "source": [
        "6.- Programa en Python que lea 4 números enteros desplegar cual es mayor"
      ],
      "metadata": {
        "id": "dfw0PuV7Tr4A"
      }
    },
    {
      "cell_type": "code",
      "source": [
        "try:\n",
        "    num1=int(input(\"Dame el primer numero\"))\n",
        "    num2=int(input(\"Dame el segundo numero\"))\n",
        "    num3=int(input(\"Dame el tercer numero\"))\n",
        "    num4=int(input(\"Dame el cuarto numero\"))\n",
        "except:\n",
        "    print(\"Solo numeros enteros!!!!!!!\")\n",
        "else:\n",
        "    mayor=num1\n",
        "    if num2>mayor:\n",
        "        mayor=num2\n",
        "    if num3>mayor:\n",
        "        mayor=num3\n",
        "    if num4>mayor:\n",
        "        mayor=num4\n",
        "    print(f\"El numero mayor es: {mayor}\")"
      ],
      "metadata": {
        "id": "zo7hFj-lTsMo",
        "colab": {
          "base_uri": "https://localhost:8080/"
        },
        "outputId": "3d380c83-ecc4-4286-98bc-c0432e02b189"
      },
      "execution_count": 14,
      "outputs": [
        {
          "output_type": "stream",
          "name": "stdout",
          "text": [
            "Dame el primer numero10.5\n",
            "Solo numeros enteros!!!!!!!\n"
          ]
        }
      ]
    },
    {
      "cell_type": "markdown",
      "source": [
        "7.- Programa en Python que sirva para calcular el área de un triangulo, los datos de entrada deben ser forzosamente de tipo real"
      ],
      "metadata": {
        "id": "L5cd4LuQTsbI"
      }
    },
    {
      "cell_type": "code",
      "source": [
        "try:\n",
        "    base=float(input(\"Dame la medida de la base\\n\"))\n",
        "    alt=float(input(\"Dame la medida de la altura\\n\"))\n",
        "except:\n",
        "    print(\"Solo numeros reales!!!\")\n",
        "else:\n",
        "    area=(base*alt)/2\n",
        "    print(f\"El area del triangulo es: {area}\")\n"
      ],
      "metadata": {
        "id": "GGkNAWsFTsuh",
        "colab": {
          "base_uri": "https://localhost:8080/"
        },
        "outputId": "3e1d3bdc-e3e9-4194-aefd-7a25f732d31a"
      },
      "execution_count": 17,
      "outputs": [
        {
          "output_type": "stream",
          "name": "stdout",
          "text": [
            "Dame la medida de la base\n",
            "π\n",
            "Solo numeros reales!!!\n"
          ]
        }
      ]
    },
    {
      "cell_type": "markdown",
      "source": [
        "8.- Programa en Python que sirva para calcular el área de un circulo"
      ],
      "metadata": {
        "id": "Lu6KiSySTs-Z"
      }
    },
    {
      "cell_type": "code",
      "source": [
        "rad=int(input(\"Dame el radio del circulo\\n\"))\n",
        "pi=3.1416\n",
        "area=pi*(rad*rad)\n",
        "print(f\"El area del circulo es: {area}\")"
      ],
      "metadata": {
        "id": "-BrN6wq_TtPY",
        "colab": {
          "base_uri": "https://localhost:8080/"
        },
        "outputId": "c86cc38c-4890-409e-c13b-0c703d81fa32"
      },
      "execution_count": 19,
      "outputs": [
        {
          "output_type": "stream",
          "name": "stdout",
          "text": [
            "Dame el radio del circulo\n",
            "15\n",
            "El area del circulo es: 706.86\n"
          ]
        }
      ]
    }
  ]
}