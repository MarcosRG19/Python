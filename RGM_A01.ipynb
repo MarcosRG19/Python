{
  "nbformat": 4,
  "nbformat_minor": 0,
  "metadata": {
    "colab": {
      "provenance": [],
      "authorship_tag": "ABX9TyO05pSOjqL4cXN0lyYEEUV6",
      "include_colab_link": true
    },
    "kernelspec": {
      "name": "python3",
      "display_name": "Python 3"
    },
    "language_info": {
      "name": "python"
    }
  },
  "cells": [
    {
      "cell_type": "markdown",
      "metadata": {
        "id": "view-in-github",
        "colab_type": "text"
      },
      "source": [
        "<a href=\"https://colab.research.google.com/github/MarcosRG19/Python/blob/main/RGM_A01.ipynb\" target=\"_parent\"><img src=\"https://colab.research.google.com/assets/colab-badge.svg\" alt=\"Open In Colab\"/></a>"
      ]
    },
    {
      "cell_type": "markdown",
      "source": [
        "1.- Programa en Python mostrar un mensaje que diga \"HOLA MUNDO\" en un solo renglón usando 2 print"
      ],
      "metadata": {
        "id": "BspbUQSnUSQn"
      }
    },
    {
      "cell_type": "code",
      "execution_count": null,
      "metadata": {
        "id": "VInhDegRUN9E",
        "colab": {
          "base_uri": "https://localhost:8080/"
        },
        "outputId": "65c3f298-ebf6-415b-9140-d1b246c48180"
      },
      "outputs": [
        {
          "output_type": "stream",
          "name": "stdout",
          "text": [
            "HOLA MUNDO\n"
          ]
        }
      ],
      "source": [
        "print(\"HOLA MUNDO\")"
      ]
    },
    {
      "cell_type": "markdown",
      "source": [
        "2.- Programa en Python que lea 2 números, realizar la suma y desplegar la suma de los 2 números"
      ],
      "metadata": {
        "id": "TKazgtIDUxXx"
      }
    },
    {
      "cell_type": "code",
      "source": [
        "num1 = int(input(\"dame el primer numero\"))\n",
        "num2 = int(input(\"dame el segundo numero\"))\n",
        "print(f\"La suma es: {num1 + num2}\")"
      ],
      "metadata": {
        "id": "HJsj5eiRVUMu",
        "colab": {
          "base_uri": "https://localhost:8080/"
        },
        "outputId": "e1871874-1285-4619-d9ff-565eb9793f2e"
      },
      "execution_count": null,
      "outputs": [
        {
          "output_type": "stream",
          "name": "stdout",
          "text": [
            "dame el primer numero5\n",
            "dame el segundo numero10\n",
            "La suma es: 15\n"
          ]
        }
      ]
    },
    {
      "cell_type": "markdown",
      "source": [
        "3.- Programa en Python que lea 2 números y realice las 4 operaciones básicas"
      ],
      "metadata": {
        "id": "KgiE4CxPVVRY"
      }
    },
    {
      "cell_type": "code",
      "source": [
        "num1 = int(input(\"dame el primer numero \"))\n",
        "num2 = int(input(\"dame el segundo numero \"))\n",
        "print(f\"La Suma es: {num1 + num2}\")\n",
        "print(f\"La Resta es: {num1 - num2}\")\n",
        "print(f\"La Multiplicación es: {num1 * num2}\")\n",
        "print(f\"La Division es: {num1 / num2}\")"
      ],
      "metadata": {
        "id": "rZ121b77VVoC",
        "colab": {
          "base_uri": "https://localhost:8080/"
        },
        "outputId": "760ded0a-228c-4809-a0b6-0095d6801787"
      },
      "execution_count": null,
      "outputs": [
        {
          "output_type": "stream",
          "name": "stdout",
          "text": [
            "dame el primer numero 10\n",
            "dame el segundo numero 5\n",
            "La Suma es: 15\n",
            "La Resta es: 5\n",
            "La Multiplicación es: 50\n",
            "La Division es: 2.0\n"
          ]
        }
      ]
    },
    {
      "cell_type": "markdown",
      "source": [
        "4.- Programa en Python que sirva para calcular el área de un triángulo"
      ],
      "metadata": {
        "id": "SebNN152VV1a"
      }
    },
    {
      "cell_type": "code",
      "source": [
        "base = float(input(\"Dame la medida de la base \"))\n",
        "alt = float(input(\"Dame la medida de la altura \"))\n",
        "print(f\"El area del triangulo es: {(base * alt)/2}\")"
      ],
      "metadata": {
        "id": "JSSwoyYaVWBX",
        "colab": {
          "base_uri": "https://localhost:8080/"
        },
        "outputId": "bf10ffeb-1dac-4765-84fe-5e30fcd5fb18"
      },
      "execution_count": null,
      "outputs": [
        {
          "output_type": "stream",
          "name": "stdout",
          "text": [
            "Dame la medida de la base 7\n",
            "Dame la medida de la altura 9\n",
            "El area del triangulo es: 31.5\n"
          ]
        }
      ]
    },
    {
      "cell_type": "markdown",
      "source": [
        "5.- Programa en Python que lea una medida en centímetros y desplegar la misma medida pero convertida en pies y pulgadas"
      ],
      "metadata": {
        "id": "NK0CQnjbVWJS"
      }
    },
    {
      "cell_type": "code",
      "source": [
        "plg = 2.54\n",
        "pies = 30.48\n",
        "med = float(input(\"Dame la medida en centimetros \"))\n",
        "print(f\"Esta medida en pulgadas es: {med / plg}\")\n",
        "print(f\"Esta medida en Pies es: {med / pies}\")"
      ],
      "metadata": {
        "id": "zdr9Sy0kVWQA",
        "colab": {
          "base_uri": "https://localhost:8080/"
        },
        "outputId": "c7775074-6491-4e32-fb3a-c98a6540f0a7"
      },
      "execution_count": null,
      "outputs": [
        {
          "output_type": "stream",
          "name": "stdout",
          "text": [
            "Dame la medida en centimetros 50\n",
            "Esta medida en pulgadas es: 19.68503937007874\n",
            "Esta medida en Pies es: 1.6404199475065617\n"
          ]
        }
      ]
    },
    {
      "cell_type": "markdown",
      "source": [
        "6.- Programa en Python que lea una temperatura en grados centígrados y desplegarla en grados Fahrenheit y grados kelvin"
      ],
      "metadata": {
        "id": "MYj7wpf4Y4zb"
      }
    },
    {
      "cell_type": "code",
      "source": [
        "temp = float(input(\"Dame la temperatura que deseas convertir\"))\n",
        "print(f\"La temperatura en grados Fahrenheit es: {(temp * 9/5) + 32}\")\n",
        "print(f\"La temperatura en grados Fahrenheit es: {temp + 273.15}\")"
      ],
      "metadata": {
        "id": "DZQVKCOUY5Kk",
        "colab": {
          "base_uri": "https://localhost:8080/"
        },
        "outputId": "6c9245d5-a20f-466e-a520-e6e67b9dac11"
      },
      "execution_count": null,
      "outputs": [
        {
          "output_type": "stream",
          "name": "stdout",
          "text": [
            "Dame la temperatura que deseas convertir32\n",
            "La temperatura en grados Fahrenheit es: 89.6\n",
            "La temperatura en grados Fahrenheit es: 305.15\n"
          ]
        }
      ]
    },
    {
      "cell_type": "markdown",
      "source": [
        "7.- Programa en Python que lea 4 calificaciones de un alumno, desplegar promedio del alumno"
      ],
      "metadata": {
        "id": "h3h0RidWY5X_"
      }
    },
    {
      "cell_type": "code",
      "source": [
        "calf1 = int(input(\"Dame la primera calificacion \"))\n",
        "calf2 = int(input(\"Dame la segunda calificacion \"))\n",
        "calf3 = int(input(\"Dame la tercera calificacion \"))\n",
        "calf4 = int(input(\"Dame la cuarta calificacion \"))\n",
        "print(f\"El promedio del alumno es: {(calf1 + calf2 + calf3 + calf4)/4}\")\n"
      ],
      "metadata": {
        "id": "Akf61Q8XY5qC",
        "colab": {
          "base_uri": "https://localhost:8080/"
        },
        "outputId": "49f5fd87-7633-4bee-8c01-76728118e0a8"
      },
      "execution_count": null,
      "outputs": [
        {
          "output_type": "stream",
          "name": "stdout",
          "text": [
            "Dame la primera calificacion 8\n",
            "Dame la segunda calificacion 9\n",
            "Dame la tercera calificacion 8\n",
            "Dame la cuarta calificacion 10\n",
            "El promedio del alumno es: 8.75\n"
          ]
        }
      ]
    }
  ]
}